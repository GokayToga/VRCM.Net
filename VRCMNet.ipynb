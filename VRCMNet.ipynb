{
  "nbformat": 4,
  "nbformat_minor": 0,
  "metadata": {
    "colab": {
      "provenance": [],
      "authorship_tag": "ABX9TyM+/GmCV2pCIFEF9D88Kh01",
      "include_colab_link": true
    },
    "kernelspec": {
      "name": "python3",
      "display_name": "Python 3"
    },
    "language_info": {
      "name": "python"
    }
  },
  "cells": [
    {
      "cell_type": "markdown",
      "metadata": {
        "id": "view-in-github",
        "colab_type": "text"
      },
      "source": [
        "<a href=\"https://colab.research.google.com/github/GokayToga/VRCM.Net/blob/main/VRCMNet.ipynb\" target=\"_parent\"><img src=\"https://colab.research.google.com/assets/colab-badge.svg\" alt=\"Open In Colab\"/></a>"
      ]
    },
    {
      "cell_type": "markdown",
      "source": [
        "# **VRCM.Net**"
      ],
      "metadata": {
        "id": "9xpW60XVezXr"
      }
    },
    {
      "cell_type": "markdown",
      "source": [
        "Virtual Reality Cybersickness Mitigation&Prediction Net, this project is my research project on Exploration of Prediction and Reducement Techniques on Cybersickness in VR Technologies using Machine Learning and Deep Learning"
      ],
      "metadata": {
        "id": "liY_vsYhe4M7"
      }
    },
    {
      "cell_type": "markdown",
      "source": [
        "## Data"
      ],
      "metadata": {
        "id": "U4htaB_Ye7hM"
      }
    },
    {
      "cell_type": "markdown",
      "source": [
        "Gettint the 57 different files of cvs and 5 different volunteers with different parameters of data into one single complete cvs file\n"
      ],
      "metadata": {
        "id": "m0ex8D3vu0-E"
      }
    },
    {
      "cell_type": "code",
      "execution_count": 1,
      "metadata": {
        "id": "mz8-uFYPeunz",
        "colab": {
          "base_uri": "https://localhost:8080/"
        },
        "outputId": "a762e455-75e6-49d0-f591-41b24ba90c62"
      },
      "outputs": [
        {
          "output_type": "stream",
          "name": "stdout",
          "text": [
            "Mounted at /content/drive\n"
          ]
        }
      ],
      "source": [
        "from google.colab import drive\n",
        "drive.mount('/content/drive')"
      ]
    },
    {
      "cell_type": "code",
      "source": [
        "import pandas as pd\n",
        "import glob\n",
        "import os\n",
        "\n",
        "# Define the path to your CSV files\n",
        "path = '/content/drive/MyDrive/490_Data'  # Replace with your actual path\n",
        "all_files = glob.glob(os.path.join(path, \"*.csv\"))\n",
        "\n",
        "# Initialize an empty list to hold individual DataFrames\n",
        "df_list = []\n",
        "\n",
        "# Iterate over each file\n",
        "for file in all_files:\n",
        "    # Extract the base filename without extension\n",
        "    base_name = os.path.basename(file).replace('.csv', '')\n",
        "\n",
        "    # Split the filename to extract metric type, volunteer ID, and movement type\n",
        "    parts = base_name.split('_')\n",
        "    metric_type = parts[0]\n",
        "    volunteer_id = parts[1]\n",
        "    movement_type = parts[2] if len(parts) > 2 else 'normal'  # Default to 'normal' if not specified\n",
        "\n",
        "    # Read the CSV file into a DataFrame\n",
        "    df = pd.read_csv(file)\n",
        "\n",
        "    # Add new columns for volunteer ID, movement type, and metric type\n",
        "    df['VolunteerID'] = volunteer_id\n",
        "    df['MovementType'] = movement_type\n",
        "    df['MetricType'] = metric_type\n",
        "\n",
        "    # Append the DataFrame to the list\n",
        "    df_list.append(df)\n",
        "\n",
        "# Concatenate all DataFrames into a single DataFrame\n",
        "combined_df = pd.concat(df_list, ignore_index=True)\n",
        "\n",
        "# Save the combined DataFrame to a new CSV file\n",
        "combined_df.to_csv('/content/drive/MyDrive/combined_data.csv', index=False)\n"
      ],
      "metadata": {
        "id": "cXq2GqlQn2Wf"
      },
      "execution_count": 2,
      "outputs": []
    },
    {
      "cell_type": "markdown",
      "source": [
        "## Reinforcement Learning (Random Forests?)"
      ],
      "metadata": {
        "id": "ZRLL7nC7fByO"
      }
    },
    {
      "cell_type": "markdown",
      "source": [
        "Prediction of Cybersickness level"
      ],
      "metadata": {
        "id": "fRPiQzd7fH0c"
      }
    },
    {
      "cell_type": "code",
      "source": [
        "# train_and_export_model.py\n",
        "\n",
        "import numpy as np\n",
        "import pandas as pd\n",
        "from sklearn.ensemble import RandomForestRegressor\n",
        "from sklearn.model_selection import train_test_split, GridSearchCV\n",
        "from sklearn.metrics import mean_squared_error, r2_score\n",
        "from skl2onnx import convert_sklearn\n",
        "from skl2onnx.common.data_types import FloatTensorType\n",
        "\n",
        "# Load your dataset\n",
        "# Assume your CSV has columns: 'fixation_count', 'avg_fixation_duration', 'gaze_variance', and 'cybersickness_score'\n",
        "data = pd.read_csv(\"eye_tracking_data.csv\")\n",
        "X = data[['fixation_count', 'avg_fixation_duration', 'gaze_variance']]\n",
        "y = data['cybersickness_score']\n",
        "\n",
        "# Split data into training and testing sets\n",
        "X_train, X_test, y_train, y_test = train_test_split(X, y, test_size=0.2, random_state=42)\n",
        "\n",
        "# Hyperparameter tuning using GridSearchCV\n",
        "param_grid = {\n",
        "    'n_estimators': [50, 100, 200],\n",
        "    'max_depth': [None, 5, 10]\n",
        "}\n",
        "\n",
        "rf = RandomForestRegressor(random_state=42)\n",
        "grid_search = GridSearchCV(rf, param_grid, cv=5, scoring='neg_mean_squared_error')\n",
        "grid_search.fit(X_train, y_train)\n",
        "best_model = grid_search.best_estimator_\n",
        "\n",
        "# Evaluate the model\n",
        "y_pred = best_model.predict(X_test)\n",
        "print(\"MSE:\", mean_squared_error(y_test, y_pred))\n",
        "print(\"R²:\", r2_score(y_test, y_pred))\n",
        "\n",
        "# Export the trained model to ONNX format for Unity\n",
        "initial_type = [('float_input', FloatTensorType([None, X_train.shape[1]]))]\n",
        "onnx_model = convert_sklearn(best_model, initial_types=initial_type)\n",
        "with open(\"cybersickness_model.onnx\", \"wb\") as f:\n",
        "    f.write(onnx_model.SerializeToString())\n"
      ],
      "metadata": {
        "id": "joAEoKhBfMxb"
      },
      "execution_count": null,
      "outputs": []
    },
    {
      "cell_type": "markdown",
      "source": [
        "Explanation:\n",
        "\n",
        "• This script loads the eye tracking dataset, trains a RandomForestRegressor (with hyperparameter tuning), evaluates its performance, and then converts the trained model into an ONNX model for Unity inference."
      ],
      "metadata": {
        "id": "sZayX-9trP3N"
      }
    },
    {
      "cell_type": "markdown",
      "source": [
        "New training code for the complete cvs file with Cybersickness score"
      ],
      "metadata": {
        "id": "K_-VGG8nuuQZ"
      }
    },
    {
      "cell_type": "code",
      "source": [
        "import pandas as pd\n",
        "import numpy as np\n",
        "from sklearn.model_selection import train_test_split\n",
        "from sklearn.ensemble import RandomForestRegressor\n",
        "from sklearn.metrics import mean_squared_error, r2_score\n",
        "from sklearn.preprocessing import LabelEncoder\n",
        "import joblib\n",
        "\n",
        "# Load the consolidated CSV file\n",
        "data_path = \"combined_data.csv\"  # Update this path as necessary\n",
        "df = pd.read_csv(data_path)\n",
        "\n",
        "# Check if the target column is present\n",
        "if 'CybersicknessScore' not in df.columns:\n",
        "    raise ValueError(\"Target column 'CybersicknessScore' not found. Please include it in your CSV file.\")\n",
        "\n",
        "# If necessary, encode any categorical columns (for example, VolunteerID, MovementType, MetricType)\n",
        "categorical_cols = ['VolunteerID', 'MovementType', 'MetricType']\n",
        "for col in categorical_cols:\n",
        "    if col in df.columns:\n",
        "        le = LabelEncoder()\n",
        "        df[col] = le.fit_transform(df[col].astype(str))\n",
        "\n",
        "# Define the features (X) and target (y)\n",
        "X = df.drop(columns=[\"CybersicknessScore\"])\n",
        "y = df[\"CybersicknessScore\"]\n",
        "\n",
        "# Split the data into training and testing sets\n",
        "X_train, X_test, y_train, y_test = train_test_split(X, y, test_size=0.2, random_state=42)\n",
        "\n",
        "# Initialize and train the Random Forest Regressor\n",
        "rf = RandomForestRegressor(n_estimators=100, random_state=42)\n",
        "rf.fit(X_train, y_train)\n",
        "\n",
        "# Evaluate the model on the test set\n",
        "y_pred = rf.predict(X_test)\n",
        "mse = mean_squared_error(y_test, y_pred)\n",
        "r2 = r2_score(y_test, y_pred)\n",
        "\n",
        "print(\"Mean Squared Error:\", mse)\n",
        "print(\"R² Score:\", r2)\n",
        "\n",
        "# Save the trained model for future use\n",
        "joblib.dump(rf, \"rf_cybersickness_model.pkl\")\n",
        "\n",
        "# Function to predict cybersickness score from new data\n",
        "def predict_cybersickness(new_data):\n",
        "    \"\"\"\n",
        "    new_data should be a DataFrame with the same feature columns as used during training.\n",
        "    \"\"\"\n",
        "    prediction = rf.predict(new_data)\n",
        "    return prediction\n",
        "\n",
        "# Example usage:\n",
        "# Suppose you have new data in the same structure (without the target column)\n",
        "# new_obs = pd.DataFrame({\n",
        "#     'FixationCount': [5],\n",
        "#     'SomeOtherMetric': [0.3],\n",
        "#     'VolunteerID': [1],\n",
        "#     'MovementType': [0],\n",
        "#     'MetricType': [2],\n",
        "#     ... # include all feature columns used in training\n",
        "# })\n",
        "# print(\"Predicted Cybersickness Score:\", predict_cybersickness(new_obs))\n"
      ],
      "metadata": {
        "id": "E6JCfNM0us0t"
      },
      "execution_count": null,
      "outputs": []
    },
    {
      "cell_type": "markdown",
      "source": [
        "## Closed-Loop Feedback System wiht Unity Integration (C#)"
      ],
      "metadata": {
        "id": "mrQ6ApT7fLOb"
      }
    },
    {
      "cell_type": "markdown",
      "source": [
        "Closed-feedback Loop system for manipulating the Fovated Rendering and Depth of Field bluring based on the RL"
      ],
      "metadata": {
        "id": "UgajEEfMfRw3"
      }
    },
    {
      "cell_type": "markdown",
      "source": [
        "### Unity integration"
      ],
      "metadata": {
        "id": "ge_1vlaWrm0K"
      }
    },
    {
      "cell_type": "code",
      "source": [
        "// CybersicknessPredictor.cs\n",
        "using UnityEngine;\n",
        "using Unity.Barracuda;\n",
        "\n",
        "public class CybersicknessPredictor : MonoBehaviour\n",
        "{\n",
        "    public NNModel onnxModelAsset; // Assign your ONNX model in the Inspector.\n",
        "    private Model runtimeModel;\n",
        "    private IWorker worker;\n",
        "\n",
        "    void Start()\n",
        "    {\n",
        "        // Load the ONNX model and create a worker for inference\n",
        "        runtimeModel = ModelLoader.Load(onnxModelAsset);\n",
        "        worker = WorkerFactory.CreateWorker(WorkerFactory.Type.ComputePrecompiled, runtimeModel);\n",
        "    }\n",
        "\n",
        "    /// <summary>\n",
        "    /// Predicts cybersickness based on input features.\n",
        "    /// </summary>\n",
        "    /// <param name=\"fixationCount\">Number of fixations</param>\n",
        "    /// <param name=\"avgFixationDuration\">Average duration of fixations</param>\n",
        "    /// <param name=\"gazeVariance\">Variance in gaze positions</param>\n",
        "    /// <returns>Predicted cybersickness score (0-10 scale)</returns>\n",
        "    public float PredictCybersickness(float fixationCount, float avgFixationDuration, float gazeVariance)\n",
        "    {\n",
        "        // Create a tensor with the input features.\n",
        "        Tensor inputTensor = new Tensor(1, 3);\n",
        "        inputTensor[0] = fixationCount;\n",
        "        inputTensor[1] = avgFixationDuration;\n",
        "        inputTensor[2] = gazeVariance;\n",
        "\n",
        "        // Execute the model and get the output\n",
        "        worker.Execute(inputTensor);\n",
        "        Tensor output = worker.PeekOutput();\n",
        "        float cybersicknessScore = output[0];\n",
        "\n",
        "        // Dispose tensors to free up resources\n",
        "        inputTensor.Dispose();\n",
        "        output.Dispose();\n",
        "\n",
        "        return cybersicknessScore;\n",
        "    }\n",
        "\n",
        "    void OnDestroy()\n",
        "    {\n",
        "        worker.Dispose();\n",
        "    }\n",
        "}\n"
      ],
      "metadata": {
        "id": "kz5GrDWCjYP3"
      },
      "execution_count": null,
      "outputs": []
    },
    {
      "cell_type": "markdown",
      "source": [
        "Explanation:\n",
        "\n",
        "• This script loads the ONNX model using Barracuda, sets up an inference worker, and defines a method to take three input features and output a cybersickness prediction.\n",
        "\n",
        "• You’ll need to ensure the feature order and dimensions match what you defined during training."
      ],
      "metadata": {
        "id": "Yt3HsBghrf0g"
      }
    },
    {
      "cell_type": "markdown",
      "source": [
        "### Closed-loop controler"
      ],
      "metadata": {
        "id": "qW5z0idMrqhr"
      }
    },
    {
      "cell_type": "code",
      "source": [
        "// VRAdaptiveController.cs\n",
        "using UnityEngine;\n",
        "\n",
        "public class VRAdaptiveController : MonoBehaviour\n",
        "{\n",
        "    public CybersicknessPredictor predictor; // Reference to the predictor script.\n",
        "    public float thresholdHigh = 7.0f;\n",
        "    public float thresholdLow = 3.0f;\n",
        "\n",
        "    // References to modules that control VR rendering parameters.\n",
        "    public FoveatedRenderingController foveatedController;\n",
        "    public DepthOfFieldController depthController;\n",
        "    // (Optional) Additional module for Field of View adjustments\n",
        "\n",
        "    void Update()\n",
        "    {\n",
        "        // Retrieve eye tracking data from your VR SDK.\n",
        "        // Replace these dummy methods with actual API calls.\n",
        "        float fixationCount = GetFixationCount();\n",
        "        float avgFixationDuration = GetAverageFixationDuration();\n",
        "        float gazeVariance = GetGazeVariance();\n",
        "\n",
        "        // Get the cybersickness score using the ML model.\n",
        "        float cybersicknessScore = predictor.PredictCybersickness(fixationCount, avgFixationDuration, gazeVariance);\n",
        "        Debug.Log(\"Cybersickness Score: \" + cybersicknessScore);\n",
        "\n",
        "        // Adaptive control logic:\n",
        "        if (cybersicknessScore > thresholdHigh)\n",
        "        {\n",
        "            // If the score is high, increase mitigation efforts.\n",
        "            foveatedController.IncreaseFFR();\n",
        "            depthController.AdjustDOFForComfort();\n",
        "            // Optionally: adjust FOV if implemented.\n",
        "        }\n",
        "        else if (cybersicknessScore < thresholdLow)\n",
        "        {\n",
        "            // If the score is low, relax the adjustments.\n",
        "            foveatedController.DecreaseFFR();\n",
        "            depthController.ResetDOF();\n",
        "        }\n",
        "        // Otherwise, maintain current settings.\n",
        "    }\n",
        "\n",
        "    // Dummy methods – replace with your VR API methods to extract eye tracking data.\n",
        "    float GetFixationCount()\n",
        "    {\n",
        "        // TODO: Replace with actual data from your VR headset's eye tracking.\n",
        "        return 5.0f;\n",
        "    }\n",
        "\n",
        "    float GetAverageFixationDuration()\n",
        "    {\n",
        "        return 0.2f;\n",
        "    }\n",
        "\n",
        "    float GetGazeVariance()\n",
        "    {\n",
        "        return 0.05f;\n",
        "    }\n",
        "}\n"
      ],
      "metadata": {
        "id": "N8u-tSftruaa"
      },
      "execution_count": null,
      "outputs": []
    },
    {
      "cell_type": "markdown",
      "source": [
        "Explanation:\n",
        "\n",
        "• This controller script gathers eye tracking data (you will replace the dummy methods with actual API calls from your VR SDK), calls the prediction model, and then uses simple threshold-based logic to decide if adjustments should be made."
      ],
      "metadata": {
        "id": "s83RhOFPryXv"
      }
    },
    {
      "cell_type": "markdown",
      "source": [
        "### Foveated Rendering Controller Script"
      ],
      "metadata": {
        "id": "DnRenkIzr036"
      }
    },
    {
      "cell_type": "code",
      "source": [
        "// FoveatedRenderingController.cs\n",
        "using UnityEngine;\n",
        "\n",
        "public class FoveatedRenderingController : MonoBehaviour\n",
        "{\n",
        "    public float ffrStrength = 0.5f; // Base FFR strength.\n",
        "\n",
        "    public void IncreaseFFR()\n",
        "    {\n",
        "        ffrStrength = Mathf.Min(ffrStrength + 0.1f, 1.0f);\n",
        "        ApplyFFRSettings();\n",
        "    }\n",
        "\n",
        "    public void DecreaseFFR()\n",
        "    {\n",
        "        ffrStrength = Mathf.Max(ffrStrength - 0.1f, 0.0f);\n",
        "        ApplyFFRSettings();\n",
        "    }\n",
        "\n",
        "    private void ApplyFFRSettings()\n",
        "    {\n",
        "        // Implement the call to your VR system’s FFR settings.\n",
        "        // For example, if your VR SDK allows adjusting resolution in peripheral areas:\n",
        "        Debug.Log(\"Applying FFR Strength: \" + ffrStrength);\n",
        "        // TODO: Integrate with actual rendering settings.\n",
        "    }\n",
        "}\n"
      ],
      "metadata": {
        "id": "nmQEo-BZr5P2"
      },
      "execution_count": null,
      "outputs": []
    },
    {
      "cell_type": "markdown",
      "source": [
        "Explanation:\n",
        "\n",
        "• This script defines methods to increase or decrease the strength of the foveated rendering effect. Adjust the internal logic to suit your VR system’s API."
      ],
      "metadata": {
        "id": "RAwq4KEqt0E_"
      }
    },
    {
      "cell_type": "markdown",
      "source": [
        "### Depth of Field Controller Script"
      ],
      "metadata": {
        "id": "zZqpm1Glt1yW"
      }
    },
    {
      "cell_type": "code",
      "source": [
        "// DepthOfFieldController.cs\n",
        "using UnityEngine;\n",
        "\n",
        "public class DepthOfFieldController : MonoBehaviour\n",
        "{\n",
        "    public float currentDOFIntensity = 0.5f;\n",
        "\n",
        "    public void AdjustDOFForComfort()\n",
        "    {\n",
        "        // Increase DOF intensity (or adjust parameters) to reduce peripheral distractions.\n",
        "        currentDOFIntensity = Mathf.Min(currentDOFIntensity + 0.1f, 1.0f);\n",
        "        ApplyDOFSettings();\n",
        "    }\n",
        "\n",
        "    public void ResetDOF()\n",
        "    {\n",
        "        // Reset DOF settings to a default comfortable value.\n",
        "        currentDOFIntensity = 0.5f;\n",
        "        ApplyDOFSettings();\n",
        "    }\n",
        "\n",
        "    private void ApplyDOFSettings()\n",
        "    {\n",
        "        // Apply the DOF adjustments to your camera's post-processing profile.\n",
        "        Debug.Log(\"DOF intensity set to \" + currentDOFIntensity);\n",
        "        // TODO: Link with your post-processing stack or DOF effect settings.\n",
        "    }\n",
        "}\n"
      ],
      "metadata": {
        "id": "RecS6UWHt6MY"
      },
      "execution_count": null,
      "outputs": []
    },
    {
      "cell_type": "markdown",
      "source": [
        "Explanation:\n",
        "\n",
        "• This script similarly adjusts the intensity of a Depth of Field effect based on the cybersickness prediction. Customize the effect parameters based on your VR scene’s needs."
      ],
      "metadata": {
        "id": "JjegerDQuAb3"
      }
    },
    {
      "cell_type": "markdown",
      "source": [
        "## Finalization"
      ],
      "metadata": {
        "id": "_yec1xLyw_32"
      }
    },
    {
      "cell_type": "markdown",
      "source": [
        "In Unity:\n",
        "\n",
        "* Import your ONNX model asset and add it to a GameObject with the CybersicknessPredictor component.\n",
        "\n",
        "* Create separate GameObjects for the FoveatedRenderingController and DepthOfFieldController and attach their scripts.\n",
        "\n",
        "* Attach the VRAdaptiveController script to a central controller GameObject and assign the above components in the Inspector.\n",
        "\n",
        "Real-Time Operation:\n",
        "\n",
        "* During runtime, the VRAdaptiveController will call your dummy eye tracking data methods (replace these with actual sensor calls).\n",
        "\n",
        "* The predictor makes a continuous prediction which the controller uses to adjust rendering parameters via your adaptive controllers.\n",
        "\n",
        "Testing & Iteration:\n",
        "\n",
        "* Validate the prediction output and observe the dynamic adjustments.\n",
        "\n",
        "* Use debugging logs to fine-tune threshold values, increment steps, and overall system responsiveness.\n"
      ],
      "metadata": {
        "id": "ClsIXPCnw-Nn"
      }
    }
  ]
}