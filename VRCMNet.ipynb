{
  "nbformat": 4,
  "nbformat_minor": 0,
  "metadata": {
    "colab": {
      "provenance": [],
      "authorship_tag": "ABX9TyOgqtcMwR1d/qX+UJdBLlU1",
      "include_colab_link": true
    },
    "kernelspec": {
      "name": "python3",
      "display_name": "Python 3"
    },
    "language_info": {
      "name": "python"
    }
  },
  "cells": [
    {
      "cell_type": "markdown",
      "metadata": {
        "id": "view-in-github",
        "colab_type": "text"
      },
      "source": [
        "<a href=\"https://colab.research.google.com/github/GokayToga/VRCM.Net/blob/main/VRCMNet.ipynb\" target=\"_parent\"><img src=\"https://colab.research.google.com/assets/colab-badge.svg\" alt=\"Open In Colab\"/></a>"
      ]
    },
    {
      "cell_type": "markdown",
      "source": [
        "# **VRCM.Net**"
      ],
      "metadata": {
        "id": "9xpW60XVezXr"
      }
    },
    {
      "cell_type": "markdown",
      "source": [
        "Virtual Reality Cybersickness Mitigation&Prediction Net, this project is my research project on Exploration of Prediction and Reducement Techniques on Cybersickness in VR Technologies using Machine Learning and Deep Learning"
      ],
      "metadata": {
        "id": "liY_vsYhe4M7"
      }
    },
    {
      "cell_type": "markdown",
      "source": [
        "## Data"
      ],
      "metadata": {
        "id": "U4htaB_Ye7hM"
      }
    },
    {
      "cell_type": "code",
      "execution_count": null,
      "metadata": {
        "id": "mz8-uFYPeunz"
      },
      "outputs": [],
      "source": []
    },
    {
      "cell_type": "markdown",
      "source": [
        "## Reinforcement Learning (Random Forests?)"
      ],
      "metadata": {
        "id": "ZRLL7nC7fByO"
      }
    },
    {
      "cell_type": "markdown",
      "source": [
        "Prediction of Cybersickness level"
      ],
      "metadata": {
        "id": "fRPiQzd7fH0c"
      }
    },
    {
      "cell_type": "code",
      "source": [],
      "metadata": {
        "id": "joAEoKhBfMxb"
      },
      "execution_count": null,
      "outputs": []
    },
    {
      "cell_type": "markdown",
      "source": [
        "## Closed-Feedback Loop System"
      ],
      "metadata": {
        "id": "mrQ6ApT7fLOb"
      }
    },
    {
      "cell_type": "markdown",
      "source": [
        "Closed-feedback Loop system for manipulating the Fovated Rendering and Depth of Field bluring based on the RL"
      ],
      "metadata": {
        "id": "UgajEEfMfRw3"
      }
    },
    {
      "cell_type": "code",
      "source": [],
      "metadata": {
        "id": "CrBsN9EhfRY6"
      },
      "execution_count": null,
      "outputs": []
    }
  ]
}